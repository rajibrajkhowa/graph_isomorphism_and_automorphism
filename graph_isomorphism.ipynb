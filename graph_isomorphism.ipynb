{
 "cells": [
  {
   "cell_type": "code",
   "execution_count": null,
   "id": "d1d4f5d2",
   "metadata": {},
   "outputs": [],
   "source": [
    "import networkx as nx\n",
    "import matplotlib.pyplot as plt\n",
    "import numpy\n",
    "from numpy import random\n",
    "\n",
    "# Declare the graphs\n",
    "G = nx.MultiGraph()\n",
    "H = nx.MultiGraph()\n",
    "I = nx.MultiGraph()\n",
    "\n",
    "# Define graph G\n",
    "G.add_node('A', pos=(random.rand(),random.rand()))\n",
    "G.add_node('B', pos=(random.rand(),random.rand()))\n",
    "G.add_node('C', pos=(random.rand(),random.rand()))\n",
    "G.add_node('D', pos=(random.rand(),random.rand()))\n",
    "G.add_node('E', pos=(random.rand(),random.rand()))\n",
    "G.add_node('F', pos=(random.rand(),random.rand()))\n",
    "G.add_edges_from([('A','D'),('A','E'),('A','F'),('B','D'),('B','E'),('B','F'),('C','D'),('C','E'),('C','F')])\n",
    "\n",
    "\n",
    "# Define graph H\n",
    "H.add_node('A', pos=(random.rand(),random.rand()))\n",
    "H.add_node('B', pos=(random.rand(),random.rand()))\n",
    "H.add_node('C', pos=(random.rand(),random.rand()))\n",
    "H.add_node('D', pos=(random.rand(),random.rand()))\n",
    "H.add_node('E', pos=(random.rand(),random.rand()))\n",
    "H.add_node('F', pos=(random.rand(),random.rand()))\n",
    "H.add_edges_from([('A','D'),('A','E'),('A','F'),('B','D'),('B','E'),('B','F'),('C','D'),('C','E'),('C','F')])\n",
    "\n",
    "\n",
    "# Define graph I\n",
    "I.add_node('A', pos=(random.rand(),random.rand()))\n",
    "I.add_node('B', pos=(random.rand(),random.rand()))\n",
    "I.add_node('C', pos=(random.rand(),random.rand()))\n",
    "I.add_node('D', pos=(random.rand(),random.rand()))\n",
    "I.add_node('E', pos=(random.rand(),random.rand()))\n",
    "I.add_node('F', pos=(random.rand(),random.rand()))\n",
    "I.add_edges_from([('A','D'),('A','E'),('A','F'),('B','D'),('B','E'),('B','F'),('C','D'),('C','E'),('C','F'),('C','F')])\n",
    "\n",
    "\n",
    "# Plot the graphs\n",
    "plt.figure(figsize=(5,5))\n",
    "nx.draw(G, pos=nx.get_node_attributes(G, 'pos') , with_labels=True, node_size=500)\n",
    "plt.figure(figsize=(5,5))\n",
    "nx.draw(H, pos=nx.get_node_attributes(H, 'pos') , with_labels=True, node_size=500)\n",
    "plt.figure(figsize=(5,5))\n",
    "nx.draw(I, pos=nx.get_node_attributes(I, 'pos') , with_labels=True, node_size=500)\n",
    "plt.show()\n",
    "\n",
    "\n",
    "# Check if graphs are isomorphic\n",
    "print(\"Is G & H isomorphic? \",nx.is_isomorphic(G,H),\"\\n\")\n",
    "print(\"Is G & I isomorphic? \",nx.is_isomorphic(G,I),\"\\n\")\n",
    "print(\"Is I & H isomorphic? \",nx.is_isomorphic(I,H),\"\\n\")"
   ]
  }
 ],
 "metadata": {
  "kernelspec": {
   "display_name": "Python 3 (ipykernel)",
   "language": "python",
   "name": "python3"
  },
  "language_info": {
   "codemirror_mode": {
    "name": "ipython",
    "version": 3
   },
   "file_extension": ".py",
   "mimetype": "text/x-python",
   "name": "python",
   "nbconvert_exporter": "python",
   "pygments_lexer": "ipython3",
   "version": "3.9.13"
  }
 },
 "nbformat": 4,
 "nbformat_minor": 5
}
