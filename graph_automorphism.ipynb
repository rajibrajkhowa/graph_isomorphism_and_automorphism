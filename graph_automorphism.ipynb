{
 "cells": [
  {
   "cell_type": "code",
   "execution_count": null,
   "id": "dc864f10",
   "metadata": {},
   "outputs": [],
   "source": [
    "from sage.all import *\n",
    "\n",
    "# Choose any of the graph generator by uncommenting\n",
    "\n",
    "G = graphs.CompleteGraph(3)\n",
    "#G = graphs.IcosahedralGraph()\n",
    "#G = graphs.FolkmanGraph()\n",
    "#G = graphs.PetersenGraph()\n",
    "#G = graphs.FruchtGraph()\n",
    "#G = graphs.GrayGraph()\n",
    "\n",
    "# Plot the graph\n",
    "G.show()\n",
    "\n",
    "# Check the size of automorphic group which indicates the number of automorphism\n",
    "print(\"Number of automorphism: \", len(G.automorphism_group().list()))"
   ]
  }
 ],
 "metadata": {
  "kernelspec": {
   "display_name": "Python 3 (ipykernel)",
   "language": "python",
   "name": "python3"
  },
  "language_info": {
   "codemirror_mode": {
    "name": "ipython",
    "version": 3
   },
   "file_extension": ".py",
   "mimetype": "text/x-python",
   "name": "python",
   "nbconvert_exporter": "python",
   "pygments_lexer": "ipython3",
   "version": "3.9.13"
  }
 },
 "nbformat": 4,
 "nbformat_minor": 5
}
